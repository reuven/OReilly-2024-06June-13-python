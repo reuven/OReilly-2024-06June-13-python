{
 "cells": [
  {
   "cell_type": "markdown",
   "metadata": {},
   "source": [
    "# Agenda\n",
    "\n",
    "1. What is a programming language? And how does Python fit into this?\n",
    "    - Jupyter\n",
    "    - Very initial start to Python\n",
    "2. Variables and values\n",
    "    - Assignment\n",
    "    - Variables (and what they are)\n",
    "    - Different types of values\n",
    "3. Operators\n",
    "    - Adding (different types)\n",
    "    - Comparisons -- how do we compare different values\n",
    "    - `if`/`else` -- making decisions in our programs\n",
    "    - More complex decisions with `and`, `or`, `not`, and `elif`\n",
    "4. Numbers\n",
    "    - Integers (whole numbers)\n",
    "    - Floats (numbers with a decimal point)\n",
    "5. Strings (text)\n",
    "    - Creating strings\n",
    "    - Retrieving from strings\n",
    "    - Strings are immutable -- what does this mean, and what can we do about it?\n",
    "6. String methods\n",
    "    - How are methods different from functions?\n",
    "    - What methods are available?\n",
    "7. Unicode\n",
    "    - What is Unicode?\n",
    "    - Why do we care?\n",
    "    - How can we use it in our Python programs?"
   ]
  },
  {
   "cell_type": "markdown",
   "metadata": {},
   "source": [
    "# Doing the code for today's class\n",
    "\n",
    "- Install Python + Jupyter on your computer\n",
    "- Use Google Colab\n",
    "- Use `try.jupyter.org` -- but this doesn't work so great when you get input from the user\n"
   ]
  },
  {
   "cell_type": "markdown",
   "metadata": {},
   "source": [
    "# What is a programming language? What is Python?\n",
    "\n",
    "Back in early days of computing, if you wanted to solve a problem, you built a specific computer to solve it. That was obviously very expensive and very time consuming. In time, people created general-purpose problem-solving computers, which they could modify using *software*, meaning the instructions written in 1s and 0s.\n",
    "\n",
    "The good news? We saved a lot of time and money.\n",
    "\n",
    "The bad news? Who wants to program in 1s and 0s?\n",
    "\n",
    "Very quickly, they created \"programming languages\" that we could write in something resembling English, and which would be translated into the 1s and 0s.\n",
    "\n",
    "There are numerous ways to do this translation, including such systems as interpreters, compilers, and byte-compilers (which is what Python, Java, and .NET all use). You can imagine that each programming language has its own advantages and disadvantages:\n",
    "\n",
    "- C executes very quickly, but is hard for people to write\n",
    "- Python, by contrast, executes kind of slowly, but it is easy for people to write\n",
    "\n",
    "That's more important today, when we spend most time debugging and maintaining code, not writing it or even executing it.\n",
    "\n"
   ]
  }
 ],
 "metadata": {
  "kernelspec": {
   "display_name": "Python 3 (ipykernel)",
   "language": "python",
   "name": "python3"
  },
  "language_info": {
   "codemirror_mode": {
    "name": "ipython",
    "version": 3
   },
   "file_extension": ".py",
   "mimetype": "text/x-python",
   "name": "python",
   "nbconvert_exporter": "python",
   "pygments_lexer": "ipython3",
   "version": "3.12.1"
  }
 },
 "nbformat": 4,
 "nbformat_minor": 4
}
