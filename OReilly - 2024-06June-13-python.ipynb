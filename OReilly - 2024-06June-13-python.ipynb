{
 "cells": [
  {
   "cell_type": "markdown",
   "metadata": {},
   "source": [
    "# Agenda\n",
    "\n",
    "1. What is a programming language? And how does Python fit into this?\n",
    "    - Jupyter\n",
    "    - Very initial start to Python\n",
    "2. Variables and values\n",
    "    - Assignment\n",
    "    - Variables (and what they are)\n",
    "    - Different types of values\n",
    "3. Operators\n",
    "    - Adding (different types)\n",
    "    - Comparisons -- how do we compare different values\n",
    "    - `if`/`else` -- making decisions in our programs\n",
    "    - More complex decisions with `and`, `or`, `not`, and `elif`\n",
    "4. Numbers\n",
    "    - Integers (whole numbers)\n",
    "    - Floats (numbers with a decimal point)\n",
    "5. Strings (text)\n",
    "    - Creating strings\n",
    "    - Retrieving from strings\n",
    "    - Strings are immutable -- what does this mean, and what can we do about it?\n",
    "6. String methods\n",
    "    - How are methods different from functions?\n",
    "    - What methods are available?\n",
    "7. Unicode\n",
    "    - What is Unicode?\n",
    "    - Why do we care?\n",
    "    - How can we use it in our Python programs?"
   ]
  },
  {
   "cell_type": "markdown",
   "metadata": {},
   "source": [
    "# Doing the code for today's class\n",
    "\n",
    "- Install Python + Jupyter on your computer\n",
    "- Use Google Colab\n",
    "- Use `try.jupyter.org` -- but this doesn't work so great when you get input from the user\n"
   ]
  },
  {
   "cell_type": "markdown",
   "metadata": {},
   "source": [
    "# What is a programming language? What is Python?\n",
    "\n",
    "Back in early days of computing, if you wanted to solve a problem, you built a specific computer to solve it. That was obviously very expensive and very time consuming. In time, people created general-purpose problem-solving computers, which they could modify using *software*, meaning the instructions written in 1s and 0s.\n",
    "\n",
    "The good news? We saved a lot of time and money.\n",
    "\n",
    "The bad news? Who wants to program in 1s and 0s?\n",
    "\n",
    "Very quickly, they created \"programming languages\" that we could write in something resembling English, and which would be translated into the 1s and 0s.\n",
    "\n",
    "There are numerous ways to do this translation, including such systems as interpreters, compilers, and byte-compilers (which is what Python, Java, and .NET all use). You can imagine that each programming language has its own advantages and disadvantages:\n",
    "\n",
    "- C executes very quickly, but is hard for people to write\n",
    "- Python, by contrast, executes kind of slowly, but it is easy for people to write\n",
    "\n",
    "That's more important today, when we spend most time debugging and maintaining code, not writing it or even executing it.\n",
    "\n",
    "I like to say that Python is a perfect language in an age when computers are cheap and people are expensive.\n",
    "\n",
    "Python has been around for more than 30 years. However, it's only in the last decade that it has skyrocketed to popularity. Where is it used?\n",
    "\n",
    "- Education\n",
    "- Web development/applications\n",
    "- APIs (consuming and producing)\n",
    "- Data analysis\n",
    "- Machine learning\n",
    "- Devops\n",
    "- Automated testing\n",
    "\n",
    "How do we write Python?\n",
    "- We can use a programming editor, e.g., PyCharm or VSCode\n",
    "- You can also use a \"notebook\" environment, of which Jupyter is the leading example"
   ]
  },
  {
   "cell_type": "markdown",
   "metadata": {},
   "source": [
    "# Introduction to Jupyter\n",
    "\n",
    "Everything in Jupyter is done in \"cells.\" I'm currently typing into a cell. When you type, what happens depending on what \"mode\" you're in:\n",
    "\n",
    "- In edit mode (which I'm in right now), everything you type is put into a cell. You can enter edit mode by pressing ENTER or by clicking inside of a cell. The outline is blue and the background is black.\n",
    "- In command mode, everything you type is a command to Jupyter, controlling the environment -- but what you type won't be entered into the cell. You can enter command mode by pressing ESC or clicking to the left of the cell. You can tell that it's in command mode by a gray-ish background and a white outline.\n",
    "\n",
    "Command mode lets us do a bunch of things:\n",
    "- `c` -- copy the current cell\n",
    "- `x` -- cut the current cell\n",
    "- `v` -- paste the most recent copy/cut\n",
    "- `a` -- get a new cell above the current one\n",
    "- `b` -- get a new cell below the current one\n",
    "- `y` -- put the current cell into Python coding mode\n",
    "- `m` -- put the current cell into Markdown text-formatting mode (what I'm in right now)\n",
    "- `h` -- get help on what you can type as commands into Jupyter\n",
    "\n",
    "When I type in edit mode, everything I type is taken literally. When I press shift+ENTER, the cell is \"executed,\" which means that we either see the text formatted (in Markdown) or the Python executed."
   ]
  },
  {
   "cell_type": "code",
   "execution_count": 1,
   "metadata": {},
   "outputs": [
    {
     "name": "stdout",
     "output_type": "stream",
     "text": [
      "Hello!\n"
     ]
    }
   ],
   "source": [
    "# here is some simple Python code\n",
    "# notice that I'm current writing comments -- they start with # anywhere on the line\n",
    "# Python ignores these comments; they are for the next people who will read your code.\n",
    "\n",
    "# print is a function, meaning a *verb* in the Python world\n",
    "# I can run it by using parentheses\n",
    "# inside of the (), I can put any value I want to print\n",
    "# here, I want to print text, which means I have to put it between either '' or \"\"\n",
    "\n",
    "print('Hello!')"
   ]
  },
  {
   "cell_type": "code",
   "execution_count": 3,
   "metadata": {},
   "outputs": [
    {
     "name": "stdout",
     "output_type": "stream",
     "text": [
      "a\n",
      "b\n",
      "c\n"
     ]
    }
   ],
   "source": [
    "# we can have multiple pieces of code in a single cell\n",
    "\n",
    "print('a')\n",
    "print('b')\n",
    "print('c')"
   ]
  },
  {
   "cell_type": "code",
   "execution_count": 4,
   "metadata": {},
   "outputs": [
    {
     "name": "stdout",
     "output_type": "stream",
     "text": [
      "10\n",
      "20\n",
      "30\n"
     ]
    }
   ],
   "source": [
    "# what about numbers? We see that we can print text, but can we print numbers?\n",
    "\n",
    "print(10)\n",
    "print(20)\n",
    "print(30)"
   ]
  },
  {
   "cell_type": "code",
   "execution_count": 5,
   "metadata": {},
   "outputs": [
    {
     "name": "stdout",
     "output_type": "stream",
     "text": [
      "15\n",
      "12\n"
     ]
    }
   ],
   "source": [
    "# can we perform calculations?\n",
    "\n",
    "print(10+5)  # the expression inside of the () is first evaluated, then is passed to print\n",
    "print(20-8)"
   ]
  },
  {
   "cell_type": "code",
   "execution_count": 6,
   "metadata": {},
   "outputs": [
    {
     "name": "stdout",
     "output_type": "stream",
     "text": [
      "hello out there\n"
     ]
    }
   ],
   "source": [
    "# maybe we could use + on text, too?\n",
    "\n",
    "print('hello ' + 'out there')"
   ]
  },
  {
   "cell_type": "code",
   "execution_count": 7,
   "metadata": {},
   "outputs": [
    {
     "ename": "TypeError",
     "evalue": "can only concatenate str (not \"int\") to str",
     "output_type": "error",
     "traceback": [
      "\u001b[0;31m---------------------------------------------------------------------------\u001b[0m",
      "\u001b[0;31mTypeError\u001b[0m                                 Traceback (most recent call last)",
      "Cell \u001b[0;32mIn[7], line 3\u001b[0m\n\u001b[1;32m      1\u001b[0m \u001b[38;5;66;03m# what if I want to mix them up?\u001b[39;00m\n\u001b[0;32m----> 3\u001b[0m \u001b[38;5;28mprint\u001b[39m(\u001b[38;5;124;43m'\u001b[39;49m\u001b[38;5;124;43mmy favorite number is \u001b[39;49m\u001b[38;5;124;43m'\u001b[39;49m\u001b[43m  \u001b[49m\u001b[38;5;241;43m+\u001b[39;49m\u001b[43m \u001b[49m\u001b[38;5;241;43m72\u001b[39;49m)\n",
      "\u001b[0;31mTypeError\u001b[0m: can only concatenate str (not \"int\") to str"
     ]
    }
   ],
   "source": [
    "# what if I want to mix them up?\n",
    "\n",
    "print('my favorite number is '  + 72)  # you cannot mix and match different types of data"
   ]
  },
  {
   "cell_type": "code",
   "execution_count": 8,
   "metadata": {},
   "outputs": [
    {
     "name": "stdout",
     "output_type": "stream",
     "text": [
      "30\n"
     ]
    }
   ],
   "source": [
    "# it quickly gets boring to have these values written inline, specified from the beginning\n",
    "# we would prefer to specify the value once, and then refer to it\n",
    "# for that, we have *variables*. Variables are names that refer to values, that allow us to\n",
    "# call them by something meaningful. You can think of variables as the pronouns of a programming language,\n",
    "# referring to a noun (value), but not being one themselves.\n",
    "\n",
    "x = 10    # assignment -- taking a value, and assigning it to a variable\n",
    "y = 20\n",
    "\n",
    "print(x+y)"
   ]
  },
  {
   "cell_type": "markdown",
   "metadata": {},
   "source": [
    "# Assignment\n",
    "\n",
    "The assignment operator in Python is `=`. The Python use of `=` is very different from the math use of `=`. \n",
    "\n",
    "- In math, it's asking a question: Are the values on the left and right equal?\n",
    "- In Python, it's a command: It's taking the value on the right and assigning it to the variable on the left\n",
    "\n",
    "If, on the right, we have an expression (i.e., something more complex that returns a value), then that's OK -- the right side is evaluated before the left side.\n",
    "\n",
    "When did we tell Python that we want to have variables `x` and `y`? Assignment in Python will create the variable if it doesn't already exist. Then it'll ensure that the variable is assigned a value."
   ]
  },
  {
   "cell_type": "code",
   "execution_count": 10,
   "metadata": {},
   "outputs": [
    {
     "name": "stdout",
     "output_type": "stream",
     "text": [
      "*** abcd ***\n"
     ]
    }
   ],
   "source": [
    "x = 'abcd'\n",
    "print('*** ' + x + ' ***')"
   ]
  },
  {
   "cell_type": "markdown",
   "metadata": {},
   "source": [
    "# Variable names\n",
    "\n",
    "Naming variables is crucial in a program, because their names communicate a lot of important ideas, and help you to keep track of things. In Python, we have a few conventions for naming variables:\n",
    "\n",
    "- All lowercase. Python is case sensitive, so if you have a variable `x` and try to `print(X)`, it'll fail, because there is no variable `X`.\n",
    "- Variable names can contain any letters, digits, and `_` you want, so long as it starts with a letter and (ideally) ends with a letter."
   ]
  },
  {
   "cell_type": "markdown",
   "metadata": {},
   "source": [
    "# Exercise: Simple calculator\n",
    "\n",
    "1. Assign two values to two variables, `x` and `y`. Assign their sum to `z`. Then print the value of `z`. Don't try to mix text strings with numbers, because it will fail.\n",
    "2. Assign your name to the variable `name`. Print a greeting to yourself, using your name."
   ]
  }
 ],
 "metadata": {
  "kernelspec": {
   "display_name": "Python 3 (ipykernel)",
   "language": "python",
   "name": "python3"
  },
  "language_info": {
   "codemirror_mode": {
    "name": "ipython",
    "version": 3
   },
   "file_extension": ".py",
   "mimetype": "text/x-python",
   "name": "python",
   "nbconvert_exporter": "python",
   "pygments_lexer": "ipython3",
   "version": "3.12.1"
  }
 },
 "nbformat": 4,
 "nbformat_minor": 4
}
