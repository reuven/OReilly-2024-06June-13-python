{
 "cells": [
  {
   "cell_type": "markdown",
   "metadata": {},
   "source": [
    "# Agenda\n",
    "\n",
    "1. What is a programming language? And how does Python fit into this?\n",
    "    - Jupyter\n",
    "    - Very initial start to Python\n",
    "2. Variables and values\n",
    "    - Assignment\n",
    "    - Variables (and what they are)\n",
    "    - Different types of values\n",
    "3. Operators\n",
    "    - Adding (different types)\n",
    "    - Comparisons -- how do we compare different values\n",
    "    - `if`/`else` -- making decisions in our programs\n",
    "    - More complex decisions with `and`, `or`, `not`, and `elif`\n",
    "4. Numbers\n",
    "    - Integers (whole numbers)\n",
    "    - Floats (numbers with a decimal point)\n",
    "5. Strings (text)\n",
    "    - Creating strings\n",
    "    - Retrieving from strings\n",
    "    - Strings are immutable -- what does this mean, and what can we do about it?\n",
    "6. String methods\n",
    "    - How are methods different from functions?\n",
    "    - What methods are available?\n",
    "7. Unicode\n",
    "    - What is Unicode?\n",
    "    - Why do we care?\n",
    "    - How can we use it in our Python programs?"
   ]
  },
  {
   "cell_type": "markdown",
   "metadata": {},
   "source": [
    "# Doing the code for today's class\n",
    "\n",
    "- Install Python + Jupyter on your computer\n",
    "- Use Google Colab\n",
    "- Use `try.jupyter.org` -- but this doesn't work so great when you get input from the user\n"
   ]
  },
  {
   "cell_type": "markdown",
   "metadata": {},
   "source": [
    "# What is a programming language? What is Python?\n",
    "\n",
    "Back in early days of computing, if you wanted to solve a problem, you built a specific computer to solve it. That was obviously very expensive and very time consuming. In time, people created general-purpose problem-solving computers, which they could modify using *software*, meaning the instructions written in 1s and 0s.\n",
    "\n",
    "The good news? We saved a lot of time and money.\n",
    "\n",
    "The bad news? Who wants to program in 1s and 0s?\n",
    "\n",
    "Very quickly, they created \"programming languages\" that we could write in something resembling English, and which would be translated into the 1s and 0s.\n",
    "\n",
    "There are numerous ways to do this translation, including such systems as interpreters, compilers, and byte-compilers (which is what Python, Java, and .NET all use). You can imagine that each programming language has its own advantages and disadvantages:\n",
    "\n",
    "- C executes very quickly, but is hard for people to write\n",
    "- Python, by contrast, executes kind of slowly, but it is easy for people to write\n",
    "\n",
    "That's more important today, when we spend most time debugging and maintaining code, not writing it or even executing it.\n",
    "\n",
    "I like to say that Python is a perfect language in an age when computers are cheap and people are expensive.\n",
    "\n",
    "Python has been around for more than 30 years. However, it's only in the last decade that it has skyrocketed to popularity. Where is it used?\n",
    "\n",
    "- Education\n",
    "- Web development/applications\n",
    "- APIs (consuming and producing)\n",
    "- Data analysis\n",
    "- Machine learning\n",
    "- Devops\n",
    "- Automated testing\n",
    "\n",
    "How do we write Python?\n",
    "- We can use a programming editor, e.g., PyCharm or VSCode\n",
    "- You can also use a \"notebook\" environment, of which Jupyter is the leading example"
   ]
  },
  {
   "cell_type": "markdown",
   "metadata": {},
   "source": [
    "# Introduction to Jupyter\n",
    "\n",
    "Everything in Jupyter is done in \"cells.\" I'm currently typing into a cell. When you type, what happens depending on what \"mode\" you're in:\n",
    "\n",
    "- In edit mode (which I'm in right now), everything you type is put into a cell. You can enter edit mode by pressing ENTER or by clicking inside of a cell. The outline is blue and the background is black.\n",
    "- In command mode, everything you type is a command to Jupyter, controlling the environment -- but what you type won't be entered into the cell. You can enter command mode by pressing ESC or clicking to the left of the cell. You can tell that it's in command mode by a gray-ish background and a white outline.\n",
    "\n",
    "Command mode lets us do a bunch of things:\n",
    "- `c` -- copy the current cell\n",
    "- `x` -- cut the current cell\n",
    "- `v` -- paste the most recent copy/cut\n",
    "- `a` -- get a new cell above the current one\n",
    "- `b` -- get a new cell below the current one\n",
    "- `y` -- put the current cell into Python coding mode\n",
    "- `m` -- put the current cell into Markdown text-formatting mode (what I'm in right now)\n",
    "- `h` -- get help on what you can type as commands into Jupyter\n",
    "\n",
    "When I type in edit mode, everything I type is taken literally. When I press shift+ENTER, the cell is \"executed,\" which means that we either see the text formatted (in Markdown) or the Python executed."
   ]
  },
  {
   "cell_type": "code",
   "execution_count": 1,
   "metadata": {},
   "outputs": [
    {
     "name": "stdout",
     "output_type": "stream",
     "text": [
      "Hello!\n"
     ]
    }
   ],
   "source": [
    "# here is some simple Python code\n",
    "# notice that I'm current writing comments -- they start with # anywhere on the line\n",
    "# Python ignores these comments; they are for the next people who will read your code.\n",
    "\n",
    "# print is a function, meaning a *verb* in the Python world\n",
    "# I can run it by using parentheses\n",
    "# inside of the (), I can put any value I want to print\n",
    "# here, I want to print text, which means I have to put it between either '' or \"\"\n",
    "\n",
    "print('Hello!')"
   ]
  },
  {
   "cell_type": "code",
   "execution_count": 3,
   "metadata": {},
   "outputs": [
    {
     "name": "stdout",
     "output_type": "stream",
     "text": [
      "a\n",
      "b\n",
      "c\n"
     ]
    }
   ],
   "source": [
    "# we can have multiple pieces of code in a single cell\n",
    "\n",
    "print('a')\n",
    "print('b')\n",
    "print('c')"
   ]
  },
  {
   "cell_type": "code",
   "execution_count": 4,
   "metadata": {},
   "outputs": [
    {
     "name": "stdout",
     "output_type": "stream",
     "text": [
      "10\n",
      "20\n",
      "30\n"
     ]
    }
   ],
   "source": [
    "# what about numbers? We see that we can print text, but can we print numbers?\n",
    "\n",
    "print(10)\n",
    "print(20)\n",
    "print(30)"
   ]
  },
  {
   "cell_type": "code",
   "execution_count": 5,
   "metadata": {},
   "outputs": [
    {
     "name": "stdout",
     "output_type": "stream",
     "text": [
      "15\n",
      "12\n"
     ]
    }
   ],
   "source": [
    "# can we perform calculations?\n",
    "\n",
    "print(10+5)  # the expression inside of the () is first evaluated, then is passed to print\n",
    "print(20-8)"
   ]
  },
  {
   "cell_type": "code",
   "execution_count": 6,
   "metadata": {},
   "outputs": [
    {
     "name": "stdout",
     "output_type": "stream",
     "text": [
      "hello out there\n"
     ]
    }
   ],
   "source": [
    "# maybe we could use + on text, too?\n",
    "\n",
    "print('hello ' + 'out there')"
   ]
  },
  {
   "cell_type": "code",
   "execution_count": 7,
   "metadata": {},
   "outputs": [
    {
     "ename": "TypeError",
     "evalue": "can only concatenate str (not \"int\") to str",
     "output_type": "error",
     "traceback": [
      "\u001b[0;31m---------------------------------------------------------------------------\u001b[0m",
      "\u001b[0;31mTypeError\u001b[0m                                 Traceback (most recent call last)",
      "Cell \u001b[0;32mIn[7], line 3\u001b[0m\n\u001b[1;32m      1\u001b[0m \u001b[38;5;66;03m# what if I want to mix them up?\u001b[39;00m\n\u001b[0;32m----> 3\u001b[0m \u001b[38;5;28mprint\u001b[39m(\u001b[38;5;124;43m'\u001b[39;49m\u001b[38;5;124;43mmy favorite number is \u001b[39;49m\u001b[38;5;124;43m'\u001b[39;49m\u001b[43m  \u001b[49m\u001b[38;5;241;43m+\u001b[39;49m\u001b[43m \u001b[49m\u001b[38;5;241;43m72\u001b[39;49m)\n",
      "\u001b[0;31mTypeError\u001b[0m: can only concatenate str (not \"int\") to str"
     ]
    }
   ],
   "source": [
    "# what if I want to mix them up?\n",
    "\n",
    "print('my favorite number is '  + 72)  # you cannot mix and match different types of data"
   ]
  },
  {
   "cell_type": "code",
   "execution_count": 8,
   "metadata": {},
   "outputs": [
    {
     "name": "stdout",
     "output_type": "stream",
     "text": [
      "30\n"
     ]
    }
   ],
   "source": [
    "# it quickly gets boring to have these values written inline, specified from the beginning\n",
    "# we would prefer to specify the value once, and then refer to it\n",
    "# for that, we have *variables*. Variables are names that refer to values, that allow us to\n",
    "# call them by something meaningful. You can think of variables as the pronouns of a programming language,\n",
    "# referring to a noun (value), but not being one themselves.\n",
    "\n",
    "x = 10    # assignment -- taking a value, and assigning it to a variable\n",
    "y = 20\n",
    "\n",
    "print(x+y)"
   ]
  },
  {
   "cell_type": "markdown",
   "metadata": {},
   "source": [
    "# Assignment\n",
    "\n",
    "The assignment operator in Python is `=`. The Python use of `=` is very different from the math use of `=`. \n",
    "\n",
    "- In math, it's asking a question: Are the values on the left and right equal?\n",
    "- In Python, it's a command: It's taking the value on the right and assigning it to the variable on the left\n",
    "\n",
    "If, on the right, we have an expression (i.e., something more complex that returns a value), then that's OK -- the right side is evaluated before the left side.\n",
    "\n",
    "When did we tell Python that we want to have variables `x` and `y`? Assignment in Python will create the variable if it doesn't already exist. Then it'll ensure that the variable is assigned a value."
   ]
  },
  {
   "cell_type": "code",
   "execution_count": 10,
   "metadata": {},
   "outputs": [
    {
     "name": "stdout",
     "output_type": "stream",
     "text": [
      "*** abcd ***\n"
     ]
    }
   ],
   "source": [
    "x = 'abcd'\n",
    "print('*** ' + x + ' ***')"
   ]
  },
  {
   "cell_type": "markdown",
   "metadata": {},
   "source": [
    "# Variable names\n",
    "\n",
    "Naming variables is crucial in a program, because their names communicate a lot of important ideas, and help you to keep track of things. In Python, we have a few conventions for naming variables:\n",
    "\n",
    "- All lowercase. Python is case sensitive, so if you have a variable `x` and try to `print(X)`, it'll fail, because there is no variable `X`.\n",
    "- Variable names can contain any letters, digits, and `_` you want, so long as it starts with a letter and (ideally) ends with a letter."
   ]
  },
  {
   "cell_type": "markdown",
   "metadata": {},
   "source": [
    "# Exercise: Simple calculator\n",
    "\n",
    "1. Assign two values to two variables, `x` and `y`. Assign their sum to `z`. Then print the value of `z`. Don't try to mix text strings with numbers, because it will fail.\n",
    "2. Assign your name to the variable `name`. Print a greeting to yourself, using your name."
   ]
  },
  {
   "cell_type": "code",
   "execution_count": 11,
   "metadata": {},
   "outputs": [
    {
     "name": "stdout",
     "output_type": "stream",
     "text": [
      "67\n"
     ]
    }
   ],
   "source": [
    "x = 25\n",
    "y = 42\n",
    "\n",
    "z = x + y\n",
    "\n",
    "print(z)"
   ]
  },
  {
   "cell_type": "code",
   "execution_count": 14,
   "metadata": {},
   "outputs": [
    {
     "name": "stdout",
     "output_type": "stream",
     "text": [
      "Hello, Reuven.\n"
     ]
    }
   ],
   "source": [
    "name = 'Reuven'\n",
    "print('Hello, ' + name + '.')"
   ]
  },
  {
   "cell_type": "markdown",
   "metadata": {},
   "source": [
    "# What's with the data types?\n",
    "\n",
    "Why do we have numbers vs. text strings? Why can't we just have \"data\"?\n",
    "\n",
    "The answer is both fundamental to the way computers work (i.e., the chips have separate parts for separate types of data), and also that different data types try to solve different types of problems."
   ]
  },
  {
   "cell_type": "markdown",
   "metadata": {},
   "source": [
    "# Identifying data structures and converting them\n",
    "\n",
    "If you want to know what kind of data is in a particular variable (or is a particular value), you can use the `type` function. This returns the type of data that you have.\n",
    "\n",
    "Notice also that in Jupyter (not elsewhere in Python!), you can just put an expression on the final line of a cell, and you'll see the result. You don't need to use `print` just to see it. Again, this is **JUST IN Jupyter**!"
   ]
  },
  {
   "cell_type": "code",
   "execution_count": 15,
   "metadata": {},
   "outputs": [
    {
     "data": {
      "text/plain": [
       "7"
      ]
     },
     "execution_count": 15,
     "metadata": {},
     "output_type": "execute_result"
    }
   ],
   "source": [
    "2 + 5"
   ]
  },
  {
   "cell_type": "code",
   "execution_count": 16,
   "metadata": {},
   "outputs": [
    {
     "data": {
      "text/plain": [
       "int"
      ]
     },
     "execution_count": 16,
     "metadata": {},
     "output_type": "execute_result"
    }
   ],
   "source": [
    "x = 2\n",
    "type(x)"
   ]
  },
  {
   "cell_type": "code",
   "execution_count": 17,
   "metadata": {},
   "outputs": [
    {
     "data": {
      "text/plain": [
       "str"
      ]
     },
     "execution_count": 17,
     "metadata": {},
     "output_type": "execute_result"
    }
   ],
   "source": [
    "y = 'hello'\n",
    "type(y)"
   ]
  },
  {
   "cell_type": "code",
   "execution_count": 18,
   "metadata": {},
   "outputs": [
    {
     "data": {
      "text/plain": [
       "int"
      ]
     },
     "execution_count": 18,
     "metadata": {},
     "output_type": "execute_result"
    }
   ],
   "source": [
    "type(2)"
   ]
  },
  {
   "cell_type": "code",
   "execution_count": 20,
   "metadata": {},
   "outputs": [
    {
     "data": {
      "text/plain": [
       "str"
      ]
     },
     "execution_count": 20,
     "metadata": {},
     "output_type": "execute_result"
    }
   ],
   "source": [
    "type('hello')"
   ]
  },
  {
   "cell_type": "code",
   "execution_count": 21,
   "metadata": {},
   "outputs": [
    {
     "ename": "TypeError",
     "evalue": "unsupported operand type(s) for +: 'int' and 'str'",
     "output_type": "error",
     "traceback": [
      "\u001b[0;31m---------------------------------------------------------------------------\u001b[0m",
      "\u001b[0;31mTypeError\u001b[0m                                 Traceback (most recent call last)",
      "Cell \u001b[0;32mIn[21], line 6\u001b[0m\n\u001b[1;32m      3\u001b[0m x \u001b[38;5;241m=\u001b[39m \u001b[38;5;241m10\u001b[39m\n\u001b[1;32m      4\u001b[0m y \u001b[38;5;241m=\u001b[39m \u001b[38;5;124m'\u001b[39m\u001b[38;5;124m20\u001b[39m\u001b[38;5;124m'\u001b[39m  \n\u001b[0;32m----> 6\u001b[0m \u001b[43mx\u001b[49m\u001b[43m \u001b[49m\u001b[38;5;241;43m+\u001b[39;49m\u001b[43m \u001b[49m\u001b[43my\u001b[49m   \u001b[38;5;66;03m# will this give me 30? Will this give me '1020'? Will it give a choice? \u001b[39;00m\n",
      "\u001b[0;31mTypeError\u001b[0m: unsupported operand type(s) for +: 'int' and 'str'"
     ]
    }
   ],
   "source": [
    "# What if I try to mix them up?\n",
    "\n",
    "x = 10\n",
    "y = '20'  \n",
    "\n",
    "x + y   # will this give me 30? Will this give me '1020'? Will it give a choice? "
   ]
  },
  {
   "cell_type": "code",
   "execution_count": 22,
   "metadata": {},
   "outputs": [
    {
     "data": {
      "text/plain": [
       "30"
      ]
     },
     "execution_count": 22,
     "metadata": {},
     "output_type": "execute_result"
    }
   ],
   "source": [
    "# If we have a string, and we want an integer, we can call int() on our string\n",
    "# we get back a new integer based on it\n",
    "\n",
    "x + int(y)"
   ]
  },
  {
   "cell_type": "code",
   "execution_count": 23,
   "metadata": {},
   "outputs": [
    {
     "data": {
      "text/plain": [
       "'1020'"
      ]
     },
     "execution_count": 23,
     "metadata": {},
     "output_type": "execute_result"
    }
   ],
   "source": [
    "# if we have an integer, and we want a string, we can call str() on our integer\n",
    "# and get a new string based on it\n",
    "\n",
    "str(x) + y"
   ]
  },
  {
   "cell_type": "code",
   "execution_count": 24,
   "metadata": {},
   "outputs": [
    {
     "ename": "TypeError",
     "evalue": "can only concatenate str (not \"int\") to str",
     "output_type": "error",
     "traceback": [
      "\u001b[0;31m---------------------------------------------------------------------------\u001b[0m",
      "\u001b[0;31mTypeError\u001b[0m                                 Traceback (most recent call last)",
      "Cell \u001b[0;32mIn[24], line 8\u001b[0m\n\u001b[1;32m      4\u001b[0m y \u001b[38;5;241m=\u001b[39m \u001b[38;5;241m20\u001b[39m\n\u001b[1;32m      6\u001b[0m z \u001b[38;5;241m=\u001b[39m x\u001b[38;5;241m+\u001b[39my   \u001b[38;5;66;03m# in assignment, the right side always executes first\u001b[39;00m\n\u001b[0;32m----> 8\u001b[0m \u001b[38;5;28mprint\u001b[39m(\u001b[38;5;124;43m'\u001b[39;49m\u001b[38;5;124;43mYour total is \u001b[39;49m\u001b[38;5;124;43m'\u001b[39;49m\u001b[43m \u001b[49m\u001b[38;5;241;43m+\u001b[39;49m\u001b[43m \u001b[49m\u001b[43mz\u001b[49m)\n",
      "\u001b[0;31mTypeError\u001b[0m: can only concatenate str (not \"int\") to str"
     ]
    }
   ],
   "source": [
    "# let's say that I want to add two numbers together and print the result\n",
    "\n",
    "x = 10\n",
    "y = 20\n",
    "\n",
    "z = x+y   # in assignment, the right side always executes first\n",
    "\n",
    "print('Your total is ' + z)"
   ]
  },
  {
   "cell_type": "code",
   "execution_count": 25,
   "metadata": {},
   "outputs": [
    {
     "name": "stdout",
     "output_type": "stream",
     "text": [
      "Your total is 30\n"
     ]
    }
   ],
   "source": [
    "# this will work, but ... yuck\n",
    "print('Your total is ' + str(z))"
   ]
  },
  {
   "cell_type": "code",
   "execution_count": 26,
   "metadata": {},
   "outputs": [
    {
     "name": "stdout",
     "output_type": "stream",
     "text": [
      "Your total is 30\n"
     ]
    }
   ],
   "source": [
    "# a better way is to use an f-string\n",
    "# it's a string in every way, but it starts with an f before the first quote\n",
    "# inside of Python, if you want a variable value or expression value in the f-string, just use {}\n",
    "\n",
    "print(f'Your total is {z}')   # {z} means: give me the value of the variable z, and insert it as a string into the print"
   ]
  },
  {
   "cell_type": "markdown",
   "metadata": {},
   "source": [
    "# Exercise: Nicer outputs\n",
    "\n",
    "1. Define `x` and `y` to be integers. Print them, along with the operation (`+`) and the total, in a single string.\n",
    "2. Print a nice greeting to whoever is named in the `name` variable.\n",
    "\n",
    "For both of these, use f-strings to print the result. That ensures that even if you have an integer, it'll be converted (automatically) into a string and you can use it."
   ]
  },
  {
   "cell_type": "code",
   "execution_count": 27,
   "metadata": {},
   "outputs": [
    {
     "name": "stdout",
     "output_type": "stream",
     "text": [
      "10 + 12 = 22\n"
     ]
    }
   ],
   "source": [
    "x = 10\n",
    "y = 12\n",
    "\n",
    "z = x+y\n",
    "\n",
    "print(f'{x} + {y} = {z}')"
   ]
  },
  {
   "cell_type": "code",
   "execution_count": 28,
   "metadata": {},
   "outputs": [
    {
     "name": "stdout",
     "output_type": "stream",
     "text": [
      "10 + 12 = 22\n"
     ]
    }
   ],
   "source": [
    "# I can also do this:\n",
    "\n",
    "print(f'{x} + {y} = {x+y}')   # inside of the {}, I can have an expression that returns a value, not just a variable"
   ]
  },
  {
   "cell_type": "code",
   "execution_count": 29,
   "metadata": {},
   "outputs": [
    {
     "name": "stdout",
     "output_type": "stream",
     "text": [
      "Hello, Reuven. Nice to see you!\n"
     ]
    }
   ],
   "source": [
    "name = 'Reuven'\n",
    "print(f'Hello, {name}. Nice to see you!')"
   ]
  },
  {
   "cell_type": "code",
   "execution_count": 30,
   "metadata": {},
   "outputs": [
    {
     "name": "stdout",
     "output_type": "stream",
     "text": [
      "Hello, Reuven. Nice to see you!\n"
     ]
    }
   ],
   "source": [
    "print('Hello, ' + name + '. Nice to see you!')"
   ]
  },
  {
   "cell_type": "markdown",
   "metadata": {},
   "source": [
    "# Next up\n",
    "\n",
    "- Input from the user (with the `input` function)\n",
    "- Comparisons with `==` and other operators\n",
    "- Making decisions with `if`\n",
    "\n"
   ]
  },
  {
   "cell_type": "code",
   "execution_count": 32,
   "metadata": {},
   "outputs": [
    {
     "name": "stdin",
     "output_type": "stream",
     "text": [
      "Enter your name:  Reuven\n"
     ]
    },
    {
     "name": "stdout",
     "output_type": "stream",
     "text": [
      "Hello, Reuven!\n"
     ]
    }
   ],
   "source": [
    "# If I want to get (textual) input from the user, I can use the \"input\" function\n",
    "# the function takes a text (string) argument in the parentheses, which will be displayed to the user\n",
    "# then, after showing that prompt, the program waits -- for user input\n",
    "# whatever the user typed is turned into a text string and is the result/return value of the function\n",
    "\n",
    "name = input('Enter your name: ')\n",
    "print(f'Hello, {name}!')"
   ]
  },
  {
   "cell_type": "code",
   "execution_count": 33,
   "metadata": {},
   "outputs": [
    {
     "name": "stdin",
     "output_type": "stream",
     "text": [
      "Enter one number:  10\n",
      "Enter another number:  20\n"
     ]
    },
    {
     "name": "stdout",
     "output_type": "stream",
     "text": [
      "Total is 1020\n"
     ]
    }
   ],
   "source": [
    "x = input('Enter one number: ')\n",
    "y = input('Enter another number: ')\n",
    "print(f'Total is {x+y}')"
   ]
  },
  {
   "cell_type": "markdown",
   "metadata": {},
   "source": [
    "# Exercise: Better calculator\n",
    "\n",
    "1. Ask the user to enter two numbers, and assign to `x` and `y`.\n",
    "2. Print `x`, `y`, and their total.\n",
    "\n",
    "Hint: Don't forget that `int`, when applied to a string, gives us back a new integer value."
   ]
  },
  {
   "cell_type": "code",
   "execution_count": 36,
   "metadata": {},
   "outputs": [
    {
     "name": "stdin",
     "output_type": "stream",
     "text": [
      "Enter a number:  10\n",
      "Enter a second number:  hello\n"
     ]
    },
    {
     "ename": "ValueError",
     "evalue": "invalid literal for int() with base 10: 'hello'",
     "output_type": "error",
     "traceback": [
      "\u001b[0;31m---------------------------------------------------------------------------\u001b[0m",
      "\u001b[0;31mValueError\u001b[0m                                Traceback (most recent call last)",
      "Cell \u001b[0;32mIn[36], line 4\u001b[0m\n\u001b[1;32m      1\u001b[0m x \u001b[38;5;241m=\u001b[39m \u001b[38;5;28minput\u001b[39m(\u001b[38;5;124m'\u001b[39m\u001b[38;5;124mEnter a number: \u001b[39m\u001b[38;5;124m'\u001b[39m)\n\u001b[1;32m      2\u001b[0m y \u001b[38;5;241m=\u001b[39m \u001b[38;5;28minput\u001b[39m(\u001b[38;5;124m'\u001b[39m\u001b[38;5;124mEnter a second number: \u001b[39m\u001b[38;5;124m'\u001b[39m)\n\u001b[0;32m----> 4\u001b[0m total \u001b[38;5;241m=\u001b[39m \u001b[38;5;28mint\u001b[39m(x) \u001b[38;5;241m+\u001b[39m \u001b[38;5;28;43mint\u001b[39;49m\u001b[43m(\u001b[49m\u001b[43my\u001b[49m\u001b[43m)\u001b[49m\n\u001b[1;32m      6\u001b[0m \u001b[38;5;28mprint\u001b[39m(\u001b[38;5;124mf\u001b[39m\u001b[38;5;124m'\u001b[39m\u001b[38;5;132;01m{\u001b[39;00mx\u001b[38;5;132;01m}\u001b[39;00m\u001b[38;5;124m + \u001b[39m\u001b[38;5;132;01m{\u001b[39;00my\u001b[38;5;132;01m}\u001b[39;00m\u001b[38;5;124m = \u001b[39m\u001b[38;5;132;01m{\u001b[39;00mtotal\u001b[38;5;132;01m}\u001b[39;00m\u001b[38;5;124m'\u001b[39m)\n",
      "\u001b[0;31mValueError\u001b[0m: invalid literal for int() with base 10: 'hello'"
     ]
    }
   ],
   "source": [
    "x = input('Enter a number: ')\n",
    "y = input('Enter a second number: ')\n",
    "\n",
    "total = int(x) + int(y)\n",
    "\n",
    "print(f'{x} + {y} = {total}')"
   ]
  },
  {
   "cell_type": "markdown",
   "metadata": {},
   "source": [
    "# Comparison operators\n",
    "\n",
    "So far, we've used one operator, `+`, which works on both numbers and text strings. As you can imagine, there are a number of mathematical operators that we'll look at later.\n",
    "\n",
    "But there are also some other operators (i.e., symbols that do things) that we need to discuss, and those are the *comparison* operators.\n",
    "\n",
    "Remember that `=` means: Assign the value on the right to the variable on the left.\n",
    "\n",
    "If we want to compare two values, we use `==`, which is an operator that returns either `True` or `False`. It compares the value on the left with the value on the right, and judges them accordingly."
   ]
  },
  {
   "cell_type": "code",
   "execution_count": 37,
   "metadata": {},
   "outputs": [
    {
     "data": {
      "text/plain": [
       "True"
      ]
     },
     "execution_count": 37,
     "metadata": {},
     "output_type": "execute_result"
    }
   ],
   "source": [
    "10 == 10"
   ]
  },
  {
   "cell_type": "code",
   "execution_count": 38,
   "metadata": {},
   "outputs": [
    {
     "data": {
      "text/plain": [
       "False"
      ]
     },
     "execution_count": 38,
     "metadata": {},
     "output_type": "execute_result"
    }
   ],
   "source": [
    "10 == 11"
   ]
  },
  {
   "cell_type": "code",
   "execution_count": 39,
   "metadata": {},
   "outputs": [
    {
     "data": {
      "text/plain": [
       "True"
      ]
     },
     "execution_count": 39,
     "metadata": {},
     "output_type": "execute_result"
    }
   ],
   "source": [
    "10 == 5 + 5"
   ]
  },
  {
   "cell_type": "code",
   "execution_count": 40,
   "metadata": {},
   "outputs": [
    {
     "data": {
      "text/plain": [
       "False"
      ]
     },
     "execution_count": 40,
     "metadata": {},
     "output_type": "execute_result"
    }
   ],
   "source": [
    "100 == '100'  # are these the same?"
   ]
  },
  {
   "cell_type": "code",
   "execution_count": 41,
   "metadata": {},
   "outputs": [
    {
     "data": {
      "text/plain": [
       "False"
      ]
     },
     "execution_count": 41,
     "metadata": {},
     "output_type": "execute_result"
    }
   ],
   "source": [
    "'abc' == 'ABC'"
   ]
  },
  {
   "cell_type": "markdown",
   "metadata": {},
   "source": [
    "# Comparison operators\n",
    "\n",
    "We have a whole bunch of comparison operators in Python:\n",
    "\n",
    "- `==` -- equality\n",
    "- `!=` -- inequality -- note that this is *not* an indication that use you can use `!` for the `not` operation in Python; this is an historic way to write the `≠` operator\n",
    "- `<` -- less than\n",
    "- `>` -- greater than\n",
    "- `<=` -- less than or equals\n",
    "- `>=` -- greater than or equals"
   ]
  },
  {
   "cell_type": "markdown",
   "metadata": {},
   "source": [
    "# Conditionals\n",
    "\n",
    "The core of programming is making decisions! That is done with `if`:\n",
    "\n",
    "- `if` looks to its right, and looks for a `True` or `False` value\n",
    "    - at the end of the `if` line, you need to have a `:`\n",
    "    - If it sees a `True` value, then its block executes\n",
    "    - The block can contain as many (or as few) lines as you want, and any code you want\n",
    "- You can, optionally, have an `else` clause as well.\n",
    "    - It has no condition; just write `else:`\n",
    "    - It also has a block starting on the following line\n",
    "- If you have `if`/`else` in your program, one of them -- and only one of them -- is guaranteed to execute.\n",
    "\n",
    "Always in Python: When you have a `:` at the end of the line, the next line must be an indented block. It doesn't need to be long or complicated, but it does need to be there.\n",
    "\n",
    "\"Indented\" can be any number of spaces or tabs *BUT*:\n",
    "- The convention is to use 4 spaces for each level of indentation\n",
    "- Most tools you use to write Python will take care of this (mostly) for you."
   ]
  },
  {
   "cell_type": "code",
   "execution_count": 43,
   "metadata": {},
   "outputs": [
    {
     "name": "stdin",
     "output_type": "stream",
     "text": [
      "Enter your name:  someone else\n"
     ]
    },
    {
     "name": "stdout",
     "output_type": "stream",
     "text": [
      "Hello, someone else. Nice to meet you.\n"
     ]
    }
   ],
   "source": [
    "name = input('Enter your name: ')\n",
    "\n",
    "if name == 'Reuven':\n",
    "    print('Hello, boss')\n",
    "    print('Nice of you to stop by the office for a change!')\n",
    "else:\n",
    "    print(f'Hello, {name}. Nice to meet you.')"
   ]
  },
  {
   "cell_type": "markdown",
   "metadata": {},
   "source": [
    "# Exercise: Name and company\n",
    "\n",
    "1. Ask the user to enter their name and company, and put each of those into a separate variable.\n",
    "2. Print a nice greeting to the user that (somehow) includes both picesof i"
   ]
  }
 ],
 "metadata": {
  "kernelspec": {
   "display_name": "Python 3 (ipykernel)",
   "language": "python",
   "name": "python3"
  },
  "language_info": {
   "codemirror_mode": {
    "name": "ipython",
    "version": 3
   },
   "file_extension": ".py",
   "mimetype": "text/x-python",
   "name": "python",
   "nbconvert_exporter": "python",
   "pygments_lexer": "ipython3",
   "version": "3.12.1"
  }
 },
 "nbformat": 4,
 "nbformat_minor": 4
}
