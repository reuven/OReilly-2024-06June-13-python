{
 "cells": [
  {
   "cell_type": "markdown",
   "metadata": {},
   "source": [
    "# Agenda\n",
    "\n",
    "1. What is a programming language? And how does Python fit into this?\n",
    "    - Jupyter\n",
    "    - Very initial start to Python\n",
    "2. Variables and values\n",
    "    - Assignment\n",
    "    - Variables (and what they are)\n",
    "    - Different types of values\n",
    "3. Operators\n",
    "    - Adding (different types)\n",
    "    - Comparisons -- how do we compare different values\n",
    "    - `if`/`else` -- making decisions in our programs\n",
    "    - More complex decisions with `and`, `or`, `not`, and `elif`\n",
    "4. Numbers\n",
    "    - Integers (whole numbers)\n",
    "    - Floats (numbers with a decimal point)\n",
    "5. Strings (text)\n",
    "    - Creating strings\n",
    "    - Retrieving from strings\n",
    "    - Strings are immutable -- what does this mean, and what can we do about it?\n",
    "6. String methods\n",
    "    - How are methods different from functions?\n",
    "    - What methods are available?\n",
    "7. Unicode\n",
    "    - What is Unicode?\n",
    "    - Why do we care?\n",
    "    - How can we use it in our Python programs?"
   ]
  },
  {
   "cell_type": "markdown",
   "metadata": {},
   "source": [
    "# Doing the code for today's class\n",
    "\n",
    "- Install Python + Jupyter on your computer\n",
    "- Use Google Colab\n",
    "- Use `try.jupyter.org` -- but this doesn't work so great when you get input from the user\n"
   ]
  },
  {
   "cell_type": "code",
   "execution_count": null,
   "metadata": {},
   "outputs": [],
   "source": []
  }
 ],
 "metadata": {
  "kernelspec": {
   "display_name": "Python 3 (ipykernel)",
   "language": "python",
   "name": "python3"
  },
  "language_info": {
   "codemirror_mode": {
    "name": "ipython",
    "version": 3
   },
   "file_extension": ".py",
   "mimetype": "text/x-python",
   "name": "python",
   "nbconvert_exporter": "python",
   "pygments_lexer": "ipython3",
   "version": "3.12.1"
  }
 },
 "nbformat": 4,
 "nbformat_minor": 4
}
